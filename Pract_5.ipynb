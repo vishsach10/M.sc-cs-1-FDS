{
  "nbformat": 4,
  "nbformat_minor": 0,
  "metadata": {
    "colab": {
      "provenance": [],
      "authorship_tag": "ABX9TyPLy7EN7s/S1nwoeFKP+2Kk",
      "include_colab_link": true
    },
    "kernelspec": {
      "name": "python3",
      "display_name": "Python 3"
    },
    "language_info": {
      "name": "python"
    }
  },
  "cells": [
    {
      "cell_type": "markdown",
      "metadata": {
        "id": "view-in-github",
        "colab_type": "text"
      },
      "source": [
        "<a href=\"https://colab.research.google.com/github/vishsach10/M.sc-cs-1-FDS_537/blob/main/Pract_5.ipynb\" target=\"_parent\"><img src=\"https://colab.research.google.com/assets/colab-badge.svg\" alt=\"Open In Colab\"/></a>"
      ]
    },
    {
      "cell_type": "code",
      "execution_count": 1,
      "metadata": {
        "id": "r_YIi2OarsJE"
      },
      "outputs": [],
      "source": [
        "%matplotlib inline\n",
        "import matplotlib.pyplot as plt\n",
        "from IPython.display import Math, Latex\n",
        "from IPython.core.display import Image\n",
        "import numpy as np\n"
      ]
    },
    {
      "cell_type": "code",
      "source": [
        "import seaborn as sns\n",
        "sns.set(color_codes=True)\n",
        "sns.set(rc={'figure.figsize':(5,5)})\n"
      ],
      "metadata": {
        "id": "cWUzvOiLuqcG"
      },
      "execution_count": 2,
      "outputs": []
    },
    {
      "cell_type": "code",
      "source": [
        "  from scipy.stats import bernoulli\n",
        "data_bern = bernoulli.rvs(size=10000,p=0.6)\n"
      ],
      "metadata": {
        "id": "ZimM0I74uqeJ"
      },
      "execution_count": 3,
      "outputs": []
    },
    {
      "cell_type": "code",
      "source": [
        "ax= sns.distplot(data_bern,\n",
        "                 kde=False,\n",
        "                 color=\"skyblue\",\n",
        "                 hist_kws={\"linewidth\": 15,'alpha':1})\n",
        "ax.set(xlabel='Bernoulli Distribution', ylabel='Frequency')\n",
        "\n"
      ],
      "metadata": {
        "colab": {
          "base_uri": "https://localhost:8080/",
          "height": 414
        },
        "id": "P1xNj_69uqg9",
        "outputId": "1ddfec92-167a-473f-88c7-c59f5ba13552"
      },
      "execution_count": 4,
      "outputs": [
        {
          "output_type": "stream",
          "name": "stderr",
          "text": [
            "/usr/local/lib/python3.7/dist-packages/seaborn/distributions.py:2619: FutureWarning: `distplot` is a deprecated function and will be removed in a future version. Please adapt your code to use either `displot` (a figure-level function with similar flexibility) or `histplot` (an axes-level function for histograms).\n",
            "  warnings.warn(msg, FutureWarning)\n"
          ]
        },
        {
          "output_type": "execute_result",
          "data": {
            "text/plain": [
              "[Text(0, 0.5, 'Frequency'), Text(0.5, 0, 'Bernoulli Distribution')]"
            ]
          },
          "metadata": {},
          "execution_count": 4
        },
        {
          "output_type": "display_data",
          "data": {
            "text/plain": [
              "<Figure size 360x360 with 1 Axes>"
            ],
            "image/png": "[encoded data removed]"
          },
          "metadata": {}
        }
      ]
    },
    {
      "cell_type": "code",
      "source": [
        "\n",
        "from scipy.stats import binom\n",
        "data_binom = binom.rvs(n=10,p=0.8,size=10000)\n"
      ],
      "metadata": {
        "id": "RclanZXEuqj0"
      },
      "execution_count": 5,
      "outputs": []
    },
    {
      "cell_type": "code",
      "source": [
        "\n",
        "ax = sns.distplot(data_binom,\n",
        "                  kde=False,\n",
        "                  color='skyblue',\n",
        "                  hist_kws={\"linewidth\": 15,'alpha':1})\n",
        "ax.set(xlabel='Binomial Distribution', ylabel='Frequency')\n",
        "\n"
      ],
      "metadata": {
        "colab": {
          "base_uri": "https://localhost:8080/",
          "height": 357
        },
        "id": "yln0cLoWuqmu",
        "outputId": "84bf26d2-9aa5-499b-8d2b-6dd3bc076eda"
      },
      "execution_count": 6,
      "outputs": [
        {
          "output_type": "execute_result",
          "data": {
            "text/plain": [
              "[Text(0, 0.5, 'Frequency'), Text(0.5, 0, 'Binomial Distribution')]"
            ]
          },
          "metadata": {},
          "execution_count": 6
        },
        {
          "output_type": "display_data",
          "data": {
            "text/plain": [
              "<Figure size 360x360 with 1 Axes>"
            ],
            "image/png": "[encoded data removed]"
          },
          "metadata": {}
        }
      ]
    },
    {
      "cell_type": "code",
      "source": [
        "\n",
        "from scipy.stats import poisson\n",
        "data_poisson = poisson.rvs(mu=3, size=10000)\n"
      ],
      "metadata": {
        "id": "EyO_2-TBuqpT"
      },
      "execution_count": 7,
      "outputs": []
    },
    {
      "cell_type": "code",
      "source": [
        "ax = sns.distplot(data_poisson,\n",
        "                  bins=30,\n",
        "                  kde=False,\n",
        "                  color='skyblue',\n",
        "                  hist_kws={\"linewidth\": 15,'alpha':1})\n",
        "ax.set(xlabel='Poisson Distribution', ylabel='Frequency')\n",
        "\n"
      ],
      "metadata": {
        "colab": {
          "base_uri": "https://localhost:8080/",
          "height": 357
        },
        "id": "CIYy8f97uqsE",
        "outputId": "199de3ab-5567-45c2-f827-e6caf402ba77"
      },
      "execution_count": 8,
      "outputs": [
        {
          "output_type": "execute_result",
          "data": {
            "text/plain": [
              "[Text(0, 0.5, 'Frequency'), Text(0.5, 0, 'Poisson Distribution')]"
            ]
          },
          "metadata": {},
          "execution_count": 8
        },
        {
          "output_type": "display_data",
          "data": {
            "text/plain": [
              "<Figure size 360x360 with 1 Axes>"
            ],
            "image/png": "[encoded data removed]"
          },
          "metadata": {}
        }
      ]
    },
    {
      "cell_type": "code",
      "source": [],
      "metadata": {
        "id": "stOEtT90uqur"
      },
      "execution_count": null,
      "outputs": []
    }
  ]
}