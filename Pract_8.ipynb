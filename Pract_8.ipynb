{
  "cells": [
    {
      "cell_type": "code",
      "source": [
        "import pandas as pd\n",
        "import numpy as np\n",
        "import matplotlib.pyplot as plt\n",
        "import seaborn as sns\n",
        "import scipy.stats as stats\n",
        "from scipy.stats import ttest_1samp\n",
        "from statsmodels.stats.power import tt_ind_solve_power\n"
      ],
      "metadata": {
        "id": "PYxgd8u5pvmd"
      },
      "execution_count": null,
      "outputs": []
    },
    {
      "cell_type": "code",
      "source": [
        "ages = [10,20,30,40,50,60,25,35,45,32,42,52,62,28,38,48,58,44,54,64,35,30,62,32,42,44,33,55,19,20,28,]"
      ],
      "metadata": {
        "id": "FKk_Be_5qsW8"
      },
      "execution_count": null,
      "outputs": []
    },
    {
      "cell_type": "code",
      "source": [
        "ages_mean=np.mean(ages)\n",
        "print(ages_mean)"
      ],
      "metadata": {
        "id": "2cZ2F68-rGvR",
        "outputId": "6ae4da8b-bae9-4547-be60-b0733cca6c07",
        "colab": {
          "base_uri": "https://localhost:8080/"
        }
      },
      "execution_count": null,
      "outputs": [
        {
          "output_type": "stream",
          "name": "stdout",
          "text": [
            "39.903225806451616\n"
          ]
        }
      ]
    },
    {
      "cell_type": "code",
      "source": [
        "sample_size=10\n",
        "age_sample=np.random.choice(ages,sample_size)\n",
        "age_sample"
      ],
      "metadata": {
        "id": "-o5kD9kGr_73",
        "outputId": "e2304048-0d2e-4640-828f-ad8b81abd8b5",
        "colab": {
          "base_uri": "https://localhost:8080/"
        }
      },
      "execution_count": null,
      "outputs": [
        {
          "output_type": "execute_result",
          "data": {
            "text/plain": [
              "array([20, 19, 44, 35, 35, 45, 44, 30, 45, 62])"
            ]
          },
          "metadata": {},
          "execution_count": 8
        }
      ]
    },
    {
      "cell_type": "code",
      "source": [
        "from scipy.stats import ttest_1samp\n"
      ],
      "metadata": {
        "id": "OIo3nzF_syXd"
      },
      "execution_count": null,
      "outputs": []
    },
    {
      "cell_type": "code",
      "source": [
        "ttest,p_value=ttest_1samp(age_sample,30)\n"
      ],
      "metadata": {
        "id": "51pk8TmStBQN"
      },
      "execution_count": null,
      "outputs": []
    },
    {
      "cell_type": "code",
      "source": [
        "print(p_value)\n"
      ],
      "metadata": {
        "id": "x5Lgp4A7tPh5",
        "outputId": "1ddb9cb4-bb5a-45d2-a761-9e9027db9625",
        "colab": {
          "base_uri": "https://localhost:8080/"
        }
      },
      "execution_count": null,
      "outputs": [
        {
          "output_type": "stream",
          "name": "stdout",
          "text": [
            "0.08610905453623792\n"
          ]
        }
      ]
    },
    {
      "cell_type": "code",
      "source": [
        "if p_value < 0.05:\n",
        "  print(\"We are rejecting the null hypothesis\")\n",
        "else:\n",
        "  print(\"We are accepting the null hypothesis\")\n"
      ],
      "metadata": {
        "id": "TtyfDvk7tZWQ",
        "outputId": "6543d7ae-4203-472c-c732-c8759f5a748d",
        "colab": {
          "base_uri": "https://localhost:8080/"
        }
      },
      "execution_count": null,
      "outputs": [
        {
          "output_type": "stream",
          "name": "stdout",
          "text": [
            "We are accepting the null hypothesis\n"
          ]
        }
      ]
    }
  ],
  "metadata": {
    "colab": {
      "toc_visible": true,
      "provenance": []
    },
    "kernelspec": {
      "display_name": "Python 3",
      "name": "python3"
    }
  },
  "nbformat": 4,
  "nbformat_minor": 0
}